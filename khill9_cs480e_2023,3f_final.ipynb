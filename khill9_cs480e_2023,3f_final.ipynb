{
  "nbformat": 4,
  "nbformat_minor": 0,
  "metadata": {
    "colab": {
      "provenance": [],
      "include_colab_link": true
    },
    "kernelspec": {
      "name": "python3",
      "display_name": "Python 3"
    },
    "language_info": {
      "name": "python"
    }
  },
  "cells": [
    {
      "cell_type": "markdown",
      "metadata": {
        "id": "view-in-github",
        "colab_type": "text"
      },
      "source": [
        "<a href=\"https://colab.research.google.com/github/LadyLandshark/Annoyatron/blob/master/khill9_cs480e_2023%2C3f_final.ipynb\" target=\"_parent\"><img src=\"https://colab.research.google.com/assets/colab-badge.svg\" alt=\"Open In Colab\"/></a>"
      ]
    },
    {
      "cell_type": "markdown",
      "source": [
        "# CS480E/580E: Final Exam\n",
        "\n",
        "\n",
        "\n"
      ],
      "metadata": {
        "id": "NVU1oJYOZ4RI"
      }
    },
    {
      "cell_type": "markdown",
      "source": [
        "## General Instructions\n",
        "### Due December 13th, 11:59 PM.\n",
        "\n",
        "In the final exam, you will use autoencoders to do dimensionality reduction on the MNIST images. You will then use the reduced dimensional representations to perform similarity search on test images. At the end of notebook, you will be able to retrieve k-most similar images on the training set.  \n",
        "\n",
        "\n",
        "Functions and cells that need to be implemented are marked with a bold **implement** keyword or clearly marked in the experiments section.\n",
        "\n",
        "Make sure to **run** the cells marked for running to make sure all the data and functions are available.\n"
      ],
      "metadata": {
        "id": "wl3YVu4ZFABa"
      }
    },
    {
      "cell_type": "code",
      "execution_count": 1,
      "metadata": {
        "id": "8Xtjmf2iZ0g3"
      },
      "outputs": [],
      "source": [
        "import math\n",
        "import random\n",
        "import torch\n",
        "import torch.nn as nn\n",
        "from torch.nn import init\n",
        "import torchvision\n",
        "import torchvision.transforms as T\n",
        "import torch.optim as optim\n",
        "from torch.utils.data import DataLoader, random_split\n",
        "import torchvision.datasets as dset\n",
        "import matplotlib.pyplot as plt\n",
        "import matplotlib.gridspec as gridspec\n",
        "import numpy as np\n",
        "\n",
        "%matplotlib inline\n",
        "\n",
        "\n",
        "# for plotting\n",
        "plt.rcParams['figure.figsize'] = (10.0, 8.0) # set default size of plots\n",
        "plt.rcParams['font.size'] = 16\n",
        "plt.rcParams['image.interpolation'] = 'nearest'\n",
        "plt.rcParams['image.cmap'] = 'gray'"
      ]
    },
    {
      "cell_type": "markdown",
      "source": [
        "# Dataset\n",
        "\n",
        "You will be working on the MNIST dataset, which is 60,000 training and 10,000 test images. Each picture contains a centered image of white digit on black background (0 through 9).\n",
        "\n",
        "To simplify our code here, use the PyTorch MNIST wrapper, which downloads and loads the MNIST dataset. See the [documentation](https://github.com/pytorch/vision/blob/master/torchvision/datasets/mnist.py) for more information about the interface. The default parameters will take 5,000 of the training examples and place them into a validation dataset. The data will be saved into a folder called `MNIST_data`.\n",
        "\n",
        "**Run** the following cell to mount your drive on colab."
      ],
      "metadata": {
        "id": "xfi1dtm9F-WG"
      }
    },
    {
      "cell_type": "code",
      "source": [
        "# Mount the drive\n",
        "from google.colab import drive\n",
        "drive.mount('/content/drive')"
      ],
      "metadata": {
        "id": "o7LzaKFO3YEB",
        "colab": {
          "base_uri": "https://localhost:8080/"
        },
        "outputId": "b8f8e8a2-a3ba-4dff-f0bb-741b080e9ca4"
      },
      "execution_count": 2,
      "outputs": [
        {
          "output_type": "stream",
          "name": "stdout",
          "text": [
            "Mounted at /content/drive\n"
          ]
        }
      ]
    },
    {
      "cell_type": "markdown",
      "source": [
        "**Run** the following cells to retrieve the MNIST training, validation, and test sets"
      ],
      "metadata": {
        "id": "JMhyPVyA4irk"
      }
    },
    {
      "cell_type": "code",
      "source": [
        "mnist_train = dset.MNIST('./MNIST_data', train=True, download=True,\n",
        "                           transform=T.ToTensor())\n",
        "\n",
        "mnist_test = dset.MNIST('./MNIST_data', train=False, download=True,\n",
        "                        transform=T.ToTensor())\n",
        "\n",
        "mnist_train, mnist_validation = random_split(mnist_train, [.8, .2])"
      ],
      "metadata": {
        "id": "AZUtLcYC3aU3",
        "colab": {
          "base_uri": "https://localhost:8080/"
        },
        "outputId": "e6111165-bc11-43a1-bd7c-d094ba6fd4b6"
      },
      "execution_count": 3,
      "outputs": [
        {
          "output_type": "stream",
          "name": "stdout",
          "text": [
            "Downloading http://yann.lecun.com/exdb/mnist/train-images-idx3-ubyte.gz\n",
            "Downloading http://yann.lecun.com/exdb/mnist/train-images-idx3-ubyte.gz to ./MNIST_data/MNIST/raw/train-images-idx3-ubyte.gz\n"
          ]
        },
        {
          "output_type": "stream",
          "name": "stderr",
          "text": [
            "100%|██████████| 9912422/9912422 [00:00<00:00, 54233763.08it/s]\n"
          ]
        },
        {
          "output_type": "stream",
          "name": "stdout",
          "text": [
            "Extracting ./MNIST_data/MNIST/raw/train-images-idx3-ubyte.gz to ./MNIST_data/MNIST/raw\n",
            "\n",
            "Downloading http://yann.lecun.com/exdb/mnist/train-labels-idx1-ubyte.gz\n",
            "Downloading http://yann.lecun.com/exdb/mnist/train-labels-idx1-ubyte.gz to ./MNIST_data/MNIST/raw/train-labels-idx1-ubyte.gz\n"
          ]
        },
        {
          "output_type": "stream",
          "name": "stderr",
          "text": [
            "100%|██████████| 28881/28881 [00:00<00:00, 71847979.73it/s]\n"
          ]
        },
        {
          "output_type": "stream",
          "name": "stdout",
          "text": [
            "Extracting ./MNIST_data/MNIST/raw/train-labels-idx1-ubyte.gz to ./MNIST_data/MNIST/raw\n",
            "\n",
            "Downloading http://yann.lecun.com/exdb/mnist/t10k-images-idx3-ubyte.gz\n",
            "Downloading http://yann.lecun.com/exdb/mnist/t10k-images-idx3-ubyte.gz to ./MNIST_data/MNIST/raw/t10k-images-idx3-ubyte.gz\n"
          ]
        },
        {
          "output_type": "stream",
          "name": "stderr",
          "text": [
            "100%|██████████| 1648877/1648877 [00:00<00:00, 31210868.00it/s]\n"
          ]
        },
        {
          "output_type": "stream",
          "name": "stdout",
          "text": [
            "Extracting ./MNIST_data/MNIST/raw/t10k-images-idx3-ubyte.gz to ./MNIST_data/MNIST/raw\n",
            "\n",
            "Downloading http://yann.lecun.com/exdb/mnist/t10k-labels-idx1-ubyte.gz\n",
            "Downloading http://yann.lecun.com/exdb/mnist/t10k-labels-idx1-ubyte.gz to ./MNIST_data/MNIST/raw/t10k-labels-idx1-ubyte.gz\n"
          ]
        },
        {
          "output_type": "stream",
          "name": "stderr",
          "text": [
            "100%|██████████| 4542/4542 [00:00<00:00, 2576833.32it/s]"
          ]
        },
        {
          "output_type": "stream",
          "name": "stdout",
          "text": [
            "Extracting ./MNIST_data/MNIST/raw/t10k-labels-idx1-ubyte.gz to ./MNIST_data/MNIST/raw\n",
            "\n"
          ]
        },
        {
          "output_type": "stream",
          "name": "stderr",
          "text": [
            "\n"
          ]
        }
      ]
    },
    {
      "cell_type": "markdown",
      "source": [
        "**Run** this cell to print the number of cells on the traning, validation, and test datasets."
      ],
      "metadata": {
        "id": "TvKznGC14v_I"
      }
    },
    {
      "cell_type": "code",
      "source": [
        "print(len(mnist_train), len(mnist_validation), len(mnist_test))"
      ],
      "metadata": {
        "id": "5mtDzRQ3aKtL",
        "colab": {
          "base_uri": "https://localhost:8080/"
        },
        "outputId": "3e5e5faa-10d4-41f4-8edc-01ace8334460"
      },
      "execution_count": 4,
      "outputs": [
        {
          "output_type": "stream",
          "name": "stdout",
          "text": [
            "48000 12000 10000\n"
          ]
        }
      ]
    },
    {
      "cell_type": "markdown",
      "source": [
        "**Run** this cell to define the helper function to generate grids of images."
      ],
      "metadata": {
        "id": "BkemVCHR4u4Z"
      }
    },
    {
      "cell_type": "code",
      "source": [
        "def show_images(images):\n",
        "    images = torch.reshape(\n",
        "        images, [images.shape[0], -1]\n",
        "    )  # images reshape to (batch_size, D)\n",
        "    sqrtn = int(math.ceil(math.sqrt(images.shape[0])))\n",
        "    sqrtimg = int(math.ceil(math.sqrt(images.shape[1])))\n",
        "\n",
        "    fig = plt.figure(figsize=(sqrtn, sqrtn))\n",
        "    gs = gridspec.GridSpec(sqrtn, sqrtn)\n",
        "    gs.update(wspace=0.05, hspace=0.05)\n",
        "\n",
        "    for i, img in enumerate(images):\n",
        "        ax = plt.subplot(gs[i])\n",
        "        plt.axis(\"off\")\n",
        "        ax.set_xticklabels([])\n",
        "        ax.set_yticklabels([])\n",
        "        ax.set_aspect(\"equal\")\n",
        "        plt.imshow(img.reshape([sqrtimg, sqrtimg]))\n",
        "    return"
      ],
      "metadata": {
        "id": "vRV_XaaN3fzC"
      },
      "execution_count": 5,
      "outputs": []
    },
    {
      "cell_type": "markdown",
      "source": [
        "**Implement** the following cell to define a `batch_size`, `loader_train`, and `loader_validation`.\n",
        "\n",
        "`batch_size` should be an integer value that defines the number of samples per mini-batch that will be used for the training dataloader.\n",
        "\n",
        "`loader_train` should be a PyTorch DataLoader on the `mnist_train` dataset with `batch_size = batch_size`, `shuffle` enabled and drop the last mini-batch.\n",
        "\n",
        "`loader_validation` should be a PyTorch DataLoader on the `mnist_validation` dataset. Set the `batch_size` as high as possible for this."
      ],
      "metadata": {
        "id": "cZ7eSC02Hnkg"
      }
    },
    {
      "cell_type": "code",
      "source": [
        "# ==== BEGIN SOLUTION CODE ====\n",
        "batch_size = 128\n",
        "loader_train = DataLoader(mnist_train, batch_size=batch_size, shuffle=True, drop_last=True)\n",
        "loader_validation = DataLoader(mnist_validation, batch_size=len(mnist_validation))\n",
        "# ==== END SOLUTION CODE ===="
      ],
      "metadata": {
        "id": "3yWKhZSIHnzb"
      },
      "execution_count": 176,
      "outputs": []
    },
    {
      "cell_type": "markdown",
      "source": [
        "**Run** the following cell to show an example of a grid of MNIST images."
      ],
      "metadata": {
        "id": "_Ck6ToupcrH4"
      }
    },
    {
      "cell_type": "code",
      "source": [
        "imgs = next(iter(loader_train))[0].view(batch_size, 784)\n",
        "show_images(imgs[:36])\n",
        "print(np.sqrt(784))"
      ],
      "metadata": {
        "id": "TeOLsn2D37Ej",
        "colab": {
          "base_uri": "https://localhost:8080/",
          "height": 516
        },
        "outputId": "2038f86e-030a-44e2-9de9-18b48c2431a0"
      },
      "execution_count": 177,
      "outputs": [
        {
          "output_type": "stream",
          "name": "stdout",
          "text": [
            "28.0\n"
          ]
        },
        {
          "output_type": "display_data",
          "data": {
            "text/plain": [
              "<Figure size 600x600 with 36 Axes>"
            ],
            "image/png": "[encoded data removed]"
          },
          "metadata": {}
        }
      ]
    },
    {
      "cell_type": "markdown",
      "source": [
        "# (Part 1) Autoencoder - 60 pts\n",
        "\n",
        "In the next cell, **implement** the definition of the `AutoEncoder` class, that implements an autoencoder using convolutions, transpose convolutions, fully connected and non-linear activation layers.\n",
        "\n",
        "\n",
        "\n",
        "You are free to choose any architecture you would like.\n",
        "**But your network must use at least 1 convolution layer**\n",
        "\n",
        "\n",
        "Complete the following methods:\n",
        "\n",
        "- `__init__(height, width, latent_dim)`: Initializes the desired layer and architecture.\n",
        "  - The inputs to the class constructor are:\n",
        "    - `height`: The height of the input images\n",
        "    - `width`: The width of the input images\n",
        "    - `latent_dim`: The size of the latent vector\n",
        "- `encode(x)`: Encodes a batch of images `x` to a batch of latent vectors, `h`\n",
        "- `decode(h)`: Decodes a batch of latent vectors `h` to a batch images, `x_reconstructed`\n",
        "- `forward(x)`: Uses `encode` and `decode` method to compress and reconstruct a batch of images, `x`."
      ],
      "metadata": {
        "id": "zwZIkT7VHunv"
      }
    },
    {
      "cell_type": "code",
      "source": [
        "class AutoEncoder(nn.Module):\n",
        "    def __init__(self, height, width, latent_dim):\n",
        "        \"\"\"\n",
        "        \"\"\"\n",
        "        super().__init__()\n",
        "\n",
        "        # ==== BEGIN SOLUTION CODE ====\n",
        "        self.height = height\n",
        "        self.width = width\n",
        "        self.latent_dim = latent_dim\n",
        "        self.layer_map = {\n",
        "            'conv1' : nn.Conv2d(1, 8, 3),\n",
        "            'relu1' : nn.ReLU(),\n",
        "            'pool1' : nn.MaxPool2d(2, return_indices=True),\n",
        "            'conv2' : nn.Conv2d(8, 16, 3),\n",
        "            'relu2' : nn.ReLU(),\n",
        "            'pool2' : nn.MaxPool2d(2, return_indices=True),\n",
        "            'flatten': nn.Flatten(),\n",
        "            'linear': nn.Linear(400, self.latent_dim),\n",
        "            'relu_final': nn.ReLU()\n",
        "        }\n",
        "        self.layers = nn.ModuleList(self.layer_map.values())\n",
        "        #self.parameters = nn.ParameterList([self.height, self.width, self.latent_dim])\n",
        "\n",
        "\n",
        "\n",
        "        # ==== END SOLUTION CODE ====\n",
        "    def encode(self, x):\n",
        "        \"\"\"\n",
        "        \"\"\"\n",
        "        h = None\n",
        "        # ==== BEGIN SOLUTION CODE ====\n",
        "        #print(f'X shape: {x.shape}')\n",
        "        conv1 = self.layer_map['conv1'](x)\n",
        "        relu1 = self.layer_map['relu1'](conv1)\n",
        "        #print(f\"Relu1 shape: {relu1.shape}\")\n",
        "        (pool1, self.indices1) = self.layer_map['pool1'](relu1)\n",
        "        self.outsize1 = relu1.size()\n",
        "        relu2 = self.layer_map['relu2'](pool1)\n",
        "        conv2 = self.layer_map['conv2'](relu2)\n",
        "        (pool2, self.indices2) = self.layer_map['pool2'](conv2)\n",
        "        self.outsize2 = conv2.size()\n",
        "        flattened = self.layer_map['flatten'](pool2)\n",
        "        linear = self.layer_map['linear'](flattened)\n",
        "        h = self.layer_map['relu_final'](linear)\n",
        "\n",
        "        # ==== END SOLUTION CODE ====\n",
        "        return h\n",
        "\n",
        "    def decode(self, h):\n",
        "        \"\"\"\n",
        "        \"\"\"\n",
        "        x_reconstructed = None\n",
        "        # ==== BEGIN SOLUTION CODE ====\n",
        "        data_shape = h.shape\n",
        "        #print(f\"H shape: {h.shape}\")\n",
        "        #reshaped = torch.reshape(h, (self.height, self.width))\n",
        "\n",
        "        decode_layers = [\n",
        "            nn.Linear(self.latent_dim, 400),\n",
        "            nn.Unflatten(1, (16, 5, 5)),\n",
        "            nn.MaxUnpool2d(2),\n",
        "            nn.ConvTranspose2d(16, 8, 3),\n",
        "            nn.ReLU(),\n",
        "            nn.MaxUnpool2d(2),\n",
        "            nn.ConvTranspose2d(8, 1, 3),\n",
        "            nn.ReLU(),\n",
        "            #nn.BatchNorm2d(1)\n",
        "        ]\n",
        "        curr_out = h\n",
        "        for i, layer in enumerate(decode_layers):\n",
        "          if i == 2:\n",
        "            #print(f\"{curr_out.shape}, {self.indices2.shape}\")\n",
        "            curr_out = layer(curr_out, self.indices2, self.outsize2)\n",
        "          elif i == 5:\n",
        "            curr_out = layer(curr_out, self.indices1, self.outsize1)\n",
        "          else:\n",
        "            curr_out = layer(curr_out)\n",
        "\n",
        "        x_reconstructed = curr_out\n",
        "        # ==== END SOLUTION CODE ====\n",
        "        return x_reconstructed\n",
        "\n",
        "    def forward(self, x):\n",
        "        \"\"\"\n",
        "        \"\"\"\n",
        "        x_reconstructed = None\n",
        "        # ==== BEGIN SOLUTION CODE ====\n",
        "        encoded = self.encode(x)\n",
        "        x_reconstructed = self.decode(encoded)\n",
        "        # ==== END SOLUTION CODE ====\n",
        "        return x_reconstructed"
      ],
      "metadata": {
        "id": "W9z_1RRt3_sk"
      },
      "execution_count": 194,
      "outputs": []
    },
    {
      "cell_type": "markdown",
      "source": [
        "## Autoencoder Training\n",
        "\n",
        "In the following cell, define an autoencoder (AE) and train on the training set.\n",
        "\n",
        "The AE training algorithm is as follows:\n",
        "\n",
        "1. Instantiate an `AutoEncoder`\n",
        "2. Define an optimizer for your AE\n",
        "3. For each batch of data in `loader_train`:\n",
        "    - Pass the input through the AE to get the reconstructed input\n",
        "    - Calculate the loss using the [`nn.functional.binary_cross_entropy`](https://pytorch.org/docs/stable/generated/torch.nn.functional.binary_cross_entropy.html)\n",
        "    - Zero the gradients, propagate the loss backwards, and update the  weights using the optimizer\n",
        "\n",
        "4. Repeat 3\n",
        "5. After N iterations (or every epoch), compute the validation loss over the validation set (using the `loader_validation`).\n"
      ],
      "metadata": {
        "id": "UGxY6-fS5-Qc"
      }
    },
    {
      "cell_type": "code",
      "source": [
        "model = AutoEncoder(28,28,784) # Instantiate your model to this variable\n",
        "\n",
        "# ==== BEGIN SOLUTION CODE ====\n",
        "learning_rate = 1e-3\n",
        "epochs = 3\n",
        "optimizer = torch.optim.Adam(model.parameters(), lr=learning_rate)\n",
        "for epoch in range(epochs):\n",
        "  # train\n",
        "  model.train()\n",
        "  for batch, (x, y) in enumerate(loader_train, 0):\n",
        "    reconstructed = model.forward(x)\n",
        "    if torch.max(reconstructed) > 1:\n",
        "      print(reconstructed)\n",
        "    loss = nn.functional.binary_cross_entropy(reconstructed, x)\n",
        "    #print('bob')\n",
        "    loss.backward()\n",
        "\n",
        "    optimizer.step()\n",
        "    optimizer.zero_grad()\n",
        "  # test\n",
        "  model.eval()\n",
        "  size = len(loader_validation.dataset)\n",
        "  num_batches = len(loader_validation)\n",
        "  validation_loss = 0\n",
        "  for batch, (x, y) in enumerate(loader_validation):\n",
        "    reconstructed = model.forward(x)\n",
        "    loss = nn.functional.binary_cross_entropy(reconstructed, x)\n",
        "    validation_loss += loss.item()\n",
        "  validation_loss /= num_batches\n",
        "  print(f\"Validation Loss  = {validation_loss}\")\n",
        "\n",
        "\n",
        "\n",
        "# ==== END SOLUTION CODE ===="
      ],
      "metadata": {
        "id": "aKoxFGZb59FS",
        "colab": {
          "base_uri": "https://localhost:8080/",
          "height": 1000
        },
        "outputId": "1adced7f-0bf0-4f31-a75f-f1762ef00aca"
      },
      "execution_count": 195,
      "outputs": [
        {
          "output_type": "stream",
          "name": "stdout",
          "text": [
            "tensor([[[[0.2858, 0.3052, 0.3436,  ..., 0.2521, 0.3034, 0.2750],\n",
            "          [0.2520, 0.3736, 0.3141,  ..., 0.3441, 0.3067, 0.2750],\n",
            "          [0.2297, 0.1715, 0.2811,  ..., 0.1853, 0.3164, 0.2750],\n",
            "          ...,\n",
            "          [0.2400, 0.3441, 0.2717,  ..., 0.3441, 0.3067, 0.2750],\n",
            "          [0.2419, 0.2082, 0.2548,  ..., 0.2082, 0.2879, 0.2750],\n",
            "          [0.2750, 0.2750, 0.2750,  ..., 0.2750, 0.2750, 0.2750]]],\n",
            "\n",
            "\n",
            "        [[[0.2999, 0.2599, 0.2892,  ..., 0.2521, 0.3034, 0.2750],\n",
            "          [0.2472, 0.4397, 0.3179,  ..., 0.3441, 0.3067, 0.2750],\n",
            "          [0.2613, 0.1505, 0.2052,  ..., 0.1853, 0.3164, 0.2750],\n",
            "          ...,\n",
            "          [0.2400, 0.3441, 0.2717,  ..., 0.3441, 0.3067, 0.2750],\n",
            "          [0.2419, 0.2082, 0.2548,  ..., 0.2082, 0.2879, 0.2750],\n",
            "          [0.2750, 0.2750, 0.2750,  ..., 0.2750, 0.2750, 0.2750]]],\n",
            "\n",
            "\n",
            "        [[[0.3002, 0.2629, 0.2917,  ..., 0.2521, 0.3034, 0.2750],\n",
            "          [0.2490, 0.4427, 0.3207,  ..., 0.3441, 0.3067, 0.2750],\n",
            "          [0.2603, 0.1513, 0.2039,  ..., 0.1853, 0.3164, 0.2750],\n",
            "          ...,\n",
            "          [0.2400, 0.3441, 0.2717,  ..., 0.3441, 0.3067, 0.2750],\n",
            "          [0.2419, 0.2082, 0.2548,  ..., 0.2082, 0.2879, 0.2750],\n",
            "          [0.2750, 0.2750, 0.2750,  ..., 0.2750, 0.2750, 0.2750]]],\n",
            "\n",
            "\n",
            "        ...,\n",
            "\n",
            "\n",
            "        [[[0.2864, 0.3045, 0.3081,  ..., 0.2521, 0.3034, 0.2750],\n",
            "          [0.2644, 0.3901, 0.3661,  ..., 0.3441, 0.3067, 0.2750],\n",
            "          [0.2349, 0.1507, 0.2474,  ..., 0.1853, 0.3164, 0.2750],\n",
            "          ...,\n",
            "          [0.2400, 0.3441, 0.2717,  ..., 0.3441, 0.3067, 0.2750],\n",
            "          [0.2419, 0.2082, 0.2548,  ..., 0.2082, 0.2879, 0.2750],\n",
            "          [0.2750, 0.2750, 0.2750,  ..., 0.2750, 0.2750, 0.2750]]],\n",
            "\n",
            "\n",
            "        [[[0.2885, 0.2555, 0.2591,  ..., 0.2521, 0.3034, 0.2750],\n",
            "          [0.2510, 0.3713, 0.3168,  ..., 0.3441, 0.3067, 0.2750],\n",
            "          [0.2795, 0.1969, 0.2773,  ..., 0.1853, 0.3164, 0.2750],\n",
            "          ...,\n",
            "          [0.2400, 0.3441, 0.2717,  ..., 0.3441, 0.3067, 0.2750],\n",
            "          [0.2419, 0.2082, 0.2548,  ..., 0.2082, 0.2879, 0.2750],\n",
            "          [0.2750, 0.2750, 0.2750,  ..., 0.2750, 0.2750, 0.2750]]],\n",
            "\n",
            "\n",
            "        [[[0.2941, 0.2564, 0.2896,  ..., 0.2521, 0.3034, 0.2750],\n",
            "          [0.2508, 0.4215, 0.3083,  ..., 0.3441, 0.3067, 0.2750],\n",
            "          [0.2581, 0.1644, 0.2117,  ..., 0.1853, 0.3164, 0.2750],\n",
            "          ...,\n",
            "          [0.2400, 0.3441, 0.2717,  ..., 0.3441, 0.3067, 0.2750],\n",
            "          [0.2419, 0.2082, 0.2548,  ..., 0.2082, 0.2879, 0.2750],\n",
            "          [0.2750, 0.2750, 0.2750,  ..., 0.2750, 0.2750, 0.2750]]]],\n",
            "       grad_fn=<ReluBackward0>)\n"
          ]
        },
        {
          "output_type": "error",
          "ename": "RuntimeError",
          "evalue": "ignored",
          "traceback": [
            "\u001b[0;31m---------------------------------------------------------------------------\u001b[0m",
            "\u001b[0;31mRuntimeError\u001b[0m                              Traceback (most recent call last)",
            "\u001b[0;32m<ipython-input-195-247e85b290cf>\u001b[0m in \u001b[0;36m<cell line: 7>\u001b[0;34m()\u001b[0m\n\u001b[1;32m     12\u001b[0m     \u001b[0;32mif\u001b[0m \u001b[0mtorch\u001b[0m\u001b[0;34m.\u001b[0m\u001b[0mmax\u001b[0m\u001b[0;34m(\u001b[0m\u001b[0mreconstructed\u001b[0m\u001b[0;34m)\u001b[0m \u001b[0;34m>\u001b[0m \u001b[0;36m1\u001b[0m\u001b[0;34m:\u001b[0m\u001b[0;34m\u001b[0m\u001b[0;34m\u001b[0m\u001b[0m\n\u001b[1;32m     13\u001b[0m       \u001b[0mprint\u001b[0m\u001b[0;34m(\u001b[0m\u001b[0mreconstructed\u001b[0m\u001b[0;34m)\u001b[0m\u001b[0;34m\u001b[0m\u001b[0;34m\u001b[0m\u001b[0m\n\u001b[0;32m---> 14\u001b[0;31m     \u001b[0mloss\u001b[0m \u001b[0;34m=\u001b[0m \u001b[0mnn\u001b[0m\u001b[0;34m.\u001b[0m\u001b[0mfunctional\u001b[0m\u001b[0;34m.\u001b[0m\u001b[0mbinary_cross_entropy\u001b[0m\u001b[0;34m(\u001b[0m\u001b[0mreconstructed\u001b[0m\u001b[0;34m,\u001b[0m \u001b[0mx\u001b[0m\u001b[0;34m)\u001b[0m\u001b[0;34m\u001b[0m\u001b[0;34m\u001b[0m\u001b[0m\n\u001b[0m\u001b[1;32m     15\u001b[0m     \u001b[0;31m#print('bob')\u001b[0m\u001b[0;34m\u001b[0m\u001b[0;34m\u001b[0m\u001b[0m\n\u001b[1;32m     16\u001b[0m     \u001b[0mloss\u001b[0m\u001b[0;34m.\u001b[0m\u001b[0mbackward\u001b[0m\u001b[0;34m(\u001b[0m\u001b[0;34m)\u001b[0m\u001b[0;34m\u001b[0m\u001b[0;34m\u001b[0m\u001b[0m\n",
            "\u001b[0;32m/usr/local/lib/python3.10/dist-packages/torch/nn/functional.py\u001b[0m in \u001b[0;36mbinary_cross_entropy\u001b[0;34m(input, target, weight, size_average, reduce, reduction)\u001b[0m\n\u001b[1;32m   3120\u001b[0m         \u001b[0mweight\u001b[0m \u001b[0;34m=\u001b[0m \u001b[0mweight\u001b[0m\u001b[0;34m.\u001b[0m\u001b[0mexpand\u001b[0m\u001b[0;34m(\u001b[0m\u001b[0mnew_size\u001b[0m\u001b[0;34m)\u001b[0m\u001b[0;34m\u001b[0m\u001b[0;34m\u001b[0m\u001b[0m\n\u001b[1;32m   3121\u001b[0m \u001b[0;34m\u001b[0m\u001b[0m\n\u001b[0;32m-> 3122\u001b[0;31m     \u001b[0;32mreturn\u001b[0m \u001b[0mtorch\u001b[0m\u001b[0;34m.\u001b[0m\u001b[0m_C\u001b[0m\u001b[0;34m.\u001b[0m\u001b[0m_nn\u001b[0m\u001b[0;34m.\u001b[0m\u001b[0mbinary_cross_entropy\u001b[0m\u001b[0;34m(\u001b[0m\u001b[0minput\u001b[0m\u001b[0;34m,\u001b[0m \u001b[0mtarget\u001b[0m\u001b[0;34m,\u001b[0m \u001b[0mweight\u001b[0m\u001b[0;34m,\u001b[0m \u001b[0mreduction_enum\u001b[0m\u001b[0;34m)\u001b[0m\u001b[0;34m\u001b[0m\u001b[0;34m\u001b[0m\u001b[0m\n\u001b[0m\u001b[1;32m   3123\u001b[0m \u001b[0;34m\u001b[0m\u001b[0m\n\u001b[1;32m   3124\u001b[0m \u001b[0;34m\u001b[0m\u001b[0m\n",
            "\u001b[0;31mRuntimeError\u001b[0m: all elements of input should be between 0 and 1"
          ]
        }
      ]
    },
    {
      "cell_type": "markdown",
      "source": [
        "**Implement** the following cell to generate 36 random reconstructions from your previously trained AE model and visualize the outputs."
      ],
      "metadata": {
        "id": "4cxGWAFrxumZ"
      }
    },
    {
      "cell_type": "code",
      "source": [
        "# ==== BEGIN SOLUTION CODE ====\n",
        "\n",
        "# ==== END SOLUTION CODE ===="
      ],
      "metadata": {
        "id": "pXyDl3Jg6kRc"
      },
      "execution_count": null,
      "outputs": []
    },
    {
      "cell_type": "markdown",
      "source": [
        "# (Part 2, 40 pts Extra Credit) Similarity Search\n",
        "\n",
        "Now using your trained model, you will generate latent vectors of the training images. This will encode the images into a vector.\n",
        "\n",
        "You will also use your trained models to encode a test image into a vector, compute a similarity measure ($L_2$ or Cosine-similarity) with the training latent vectors."
      ],
      "metadata": {
        "id": "-o27ZbMwHZl8"
      }
    },
    {
      "cell_type": "markdown",
      "source": [
        "**Implement** the following cell to complete the `generate_latent_vectors` function.\n",
        "\n",
        "The arguments are:\n",
        "\n",
        "- `model`: The model used to generate the latent encodings\n",
        "- `dataset`: The dataset to the generate the latent encodings\n",
        "\n",
        "Returns:\n",
        "- PyTorch tensor of latent vectors computed from the dataset images using the model. It should be a 2D tensor with `len(dataset)` rows and `latent_dim` columns.\n",
        "\n",
        "Iterate over each image in the `dataset` and `encode` the images using the `model`. Make sure to turn off backprop and gradient calculations using `with torch.no_grad()` and set the model to evaluation mode using `model.eval()`.\n",
        "\n",
        "You may find the `torch.vstack` function useful."
      ],
      "metadata": {
        "id": "iu7EbzxPxx9X"
      }
    },
    {
      "cell_type": "code",
      "source": [
        "def generate_latent_vectors(model, dataset):\n",
        "    '''\n",
        "    Iterates over the dataset and uses the model to generates latent vectors.\n",
        "    Returns a Torch tensor of latent vectors of shape\n",
        "\n",
        "    Args:\n",
        "      - model : trained model\n",
        "      - dataset: PyTorch dataset of images\n",
        "\n",
        "    Returns:\n",
        "      - latent_vectors - Torch tensor of dimension (len(dataset), latent_dim).\n",
        "    '''\n",
        "    latent_vectors = None\n",
        "    # ==== BEGIN SOLUTION CODE ====\n",
        "\n",
        "    # ==== END SOLUTION CODE ====\n",
        "    return latent_vectors"
      ],
      "metadata": {
        "id": "N4d3UPbHXNvY"
      },
      "execution_count": null,
      "outputs": []
    },
    {
      "cell_type": "markdown",
      "source": [
        "**Run** the following cell to generate the latent vectors of the images from the `mnist_train` dataset using your `model` and the `generate_latent_vectors` dataset."
      ],
      "metadata": {
        "id": "ZWPMyTjjwueQ"
      }
    },
    {
      "cell_type": "code",
      "source": [
        "training_vectors = generate_latent_vectors(model, mnist_train)"
      ],
      "metadata": {
        "id": "gqG7afFMc0KW"
      },
      "execution_count": null,
      "outputs": []
    },
    {
      "cell_type": "markdown",
      "source": [
        "**Implement** the `cosine_sim` function that computes the cosine similarity between each row of input tensors `a` and `b` and the 1-D tensor of indices with the of the `k` closest values.\n",
        "\n",
        "\n",
        "*Hint: You can use the [torch.nn.functional.cosine_similarity](https://pytorch.org/docs/stable/generated/torch.nn.functional.cosine_similarity.html#torch.nn.functional.cosine_similarity) and\n",
        "[torch.topk](https://pytorch.org/docs/stable/generated/torch.topk.html) functions. Make sure you use the appropriate parameters*  "
      ],
      "metadata": {
        "id": "37XT_cLIYVTD"
      }
    },
    {
      "cell_type": "code",
      "source": [
        "def cosine_sim(a, b, k=5):\n",
        "    # ==== BEGIN SOLUTION CODE ====\n",
        "\n",
        "    # ==== END SOLUTION CODE ===="
      ],
      "metadata": {
        "id": "UCUKPmZ6d1r8"
      },
      "execution_count": null,
      "outputs": []
    },
    {
      "cell_type": "markdown",
      "source": [
        "**Implement** the `l2_pairwise_dist` function that computes the l2 distance between each row of input tensors `a` and `b` and returns the 1-D tensor of indices with the of the `k` closest values.\n",
        "\n",
        "*Hint: You can use the [torch.nn.functional.pairwise_distance](https://pytorch.org/docs/stable/generated/torch.nn.functional.pairwise_distance.html#torch.nn.functional.pairwise_distance) and\n",
        "[torch.topk](https://pytorch.org/docs/stable/generated/torch.topk.html) functions. Make sure you use the appropriate parameters*"
      ],
      "metadata": {
        "id": "j64XVqn7imro"
      }
    },
    {
      "cell_type": "code",
      "source": [
        "def l2_pairwise_dist(a, b, k=5):\n",
        "    # ==== BEGIN SOLUTION CODE ====\n",
        "\n",
        "    # ==== END SOLUTION CODE ===="
      ],
      "metadata": {
        "id": "lCu5P2t9d3Wt"
      },
      "execution_count": null,
      "outputs": []
    },
    {
      "cell_type": "markdown",
      "source": [
        "**Implement** the following function to find the top-k most similar images for a given image using a given 2-D array of latent vectors.\n",
        "\n",
        "The arguments are:\n",
        "  - `img`: The image to search similar images for.\n",
        "  - `model`: The trained model to use to generate latent vector of `img`.\n",
        "  - `latents`: The 2D tensor of latent vectors of the training dataset. Find the similar vectors to `img`s latent vector within this 2D tensor.\n",
        "  - `k`: The number of indices to return (default: 5)\n",
        "  - `distance_function`: The distance function to use to measure the similarity between latent vectors.  \n",
        "  \n",
        "\n",
        "Returns:\n",
        "    - The 1-D tensor of indices of the similar images to `img`\n",
        "\n",
        "\n",
        "Get the latent vector of `img` using your `model`s `encode` and then use the `distance_function` to get the `k`-nearest vectors."
      ],
      "metadata": {
        "id": "1X7NH7cwLM_r"
      }
    },
    {
      "cell_type": "code",
      "source": [
        "def find_top_k(img, model, latents, k = 5, distance_function=cosine_sim):\n",
        "    ind = None\n",
        "    # ==== BEGIN SOLUTION CODE ====\n",
        "\n",
        "    # ==== END SOLUTION CODE ====\n",
        "    return ind"
      ],
      "metadata": {
        "id": "Q1E1BdNwfbNj"
      },
      "execution_count": null,
      "outputs": []
    },
    {
      "cell_type": "markdown",
      "source": [
        "**Run** the following cell to define the top-k image visualization helper function."
      ],
      "metadata": {
        "id": "FnR1cK8huvdB"
      }
    },
    {
      "cell_type": "code",
      "source": [
        "def show_top_k_images(root_image, images):\n",
        "\n",
        "    num_images = len(images) + 1\n",
        "    sqrtimg = int(math.ceil(math.sqrt(28)))\n",
        "\n",
        "    fig = plt.figure(figsize=(num_images*2.5, num_images*5))\n",
        "    gs = gridspec.GridSpec(1, num_images)\n",
        "    gs.update(wspace=0.05, hspace=0.05)\n",
        "    images = [root_image] + images\n",
        "\n",
        "    for i, img in enumerate(images):\n",
        "\n",
        "        ax = plt.subplot(gs[i])\n",
        "        plt.axis(\"off\")\n",
        "        ax.set_xticklabels([])\n",
        "        ax.set_yticklabels([])\n",
        "        ax.set_aspect(\"equal\")\n",
        "        plt.imshow(img.reshape([28, 28]))\n",
        "        if i == 0:\n",
        "            ax.set_title(\"Search Image\")\n",
        "    return"
      ],
      "metadata": {
        "id": "rXfiWm3QoxVw"
      },
      "execution_count": null,
      "outputs": []
    },
    {
      "cell_type": "markdown",
      "source": [
        "**Run** the following cell to get the 5 most similar images to an image from the test set using a cosine similarity metric.\n",
        "\n",
        "If all the above cells are completed correctly, there should be no errors, and the found images should look visually similar."
      ],
      "metadata": {
        "id": "nF5Ttbiyu3B-"
      }
    },
    {
      "cell_type": "code",
      "source": [
        "root_img_ind = 19\n",
        "root_img = mnist_test[root_img_ind][0]\n",
        "_inds = find_top_k(root_img, model, training_vectors, k=5, distance_function= cosine_sim)\n",
        "images = []\n",
        "for i in _inds:\n",
        "    images.append(mnist_train[i][0])\n",
        "show_top_k_images(root_img, images)"
      ],
      "metadata": {
        "id": "NBd2UG6dnNgr"
      },
      "execution_count": null,
      "outputs": []
    },
    {
      "cell_type": "markdown",
      "source": [
        "**Run** the following cell to get the 5 most similar images to an image from the test set using a $\\mathcal{l}_2$ distance.\n",
        "\n",
        "\n",
        "If all the above cells are completed correctly, there should be no errors, and the found images should look visually similar."
      ],
      "metadata": {
        "id": "duLY_18Usuts"
      }
    },
    {
      "cell_type": "code",
      "source": [
        "root_img_ind = 19\n",
        "root_img = mnist_test[root_img_ind][0]\n",
        "_inds = find_top_k(root_img, model, training_vectors, k=5, distance_function=l2_pairwise_dist)\n",
        "images = []\n",
        "for i in _inds:\n",
        "    images.append(mnist_train[i][0])\n",
        "show_top_k_images(root_img, images)"
      ],
      "metadata": {
        "id": "fp5XZXdUnTVe"
      },
      "execution_count": null,
      "outputs": []
    }
  ]
}